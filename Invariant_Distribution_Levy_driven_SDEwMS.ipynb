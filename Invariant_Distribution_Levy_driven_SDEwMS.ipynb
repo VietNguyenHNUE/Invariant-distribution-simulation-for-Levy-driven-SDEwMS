{
  "nbformat": 4,
  "nbformat_minor": 0,
  "metadata": {
    "colab": {
      "provenance": []
    },
    "kernelspec": {
      "name": "python3",
      "display_name": "Python 3"
    },
    "language_info": {
      "name": "python"
    }
  },
  "cells": [
    {
      "cell_type": "code",
      "execution_count": null,
      "metadata": {
        "id": "wZ1d4GGbiJN3"
      },
      "outputs": [],
      "source": [
        "import math\n",
        "import numpy as np\n",
        "from sklearn import linear_model\n",
        "from sklearn.linear_model import LinearRegression\n",
        "import matplotlib.pyplot as plt\n",
        "import scipy.stats\n",
        "import time\n",
        "import seaborn as sns"
      ]
    },
    {
      "cell_type": "code",
      "source": [
        "#Define the function b\n",
        "def b(theta, a, x):\n",
        "  if theta == 1:\n",
        "    y = np.array([1 - a[0]*x[0] - x[0]**3, 1 - a[1]*x[1] - x[1]**3, 1 - a[2]*x[2] - x[2]**3])\n",
        "  if theta == 2:\n",
        "    y = np.array([2 - a[0]*x[0] - x[0]**3, 2 - a[1]*x[1] - x[1]**3, 2 - a[2]*x[2] - x[2]**3])\n",
        "  return y"
      ],
      "metadata": {
        "id": "M4lqY8pCic_N"
      },
      "execution_count": null,
      "outputs": []
    },
    {
      "cell_type": "code",
      "source": [
        "#Define the function sigma\n",
        "def sigma(theta, B, x):\n",
        "  if theta == 1:\n",
        "    y = np.array([B[0]*x[0]**2, B[1]*x[1]**2, B[2]*x[2]**2])\n",
        "  if theta == 2:\n",
        "    y = np.array([B[0]*x[2]**2, B[1]*x[0]**2, B[2]*x[1]**2])\n",
        "  return y"
      ],
      "metadata": {
        "id": "0Y06iuXoifkT"
      },
      "execution_count": null,
      "outputs": []
    },
    {
      "cell_type": "code",
      "source": [
        "#Define the function gamma\n",
        "def c(theta, g, x):\n",
        "  if theta == 1:\n",
        "    y = np.array([g[0]*x[0], g[1]*(x[1] + math.sin(x[2])), g[2]*math.cos(x[2])])\n",
        "  if theta == 2:\n",
        "    y = np.array([g[0]*math.cos(x[2]), g[1]*x[0], g[2]*(x[1] + math.sin(x[2]))])\n",
        "  return y"
      ],
      "metadata": {
        "id": "4DASXa6NilgD"
      },
      "execution_count": null,
      "outputs": []
    },
    {
      "cell_type": "code",
      "source": [
        "#Define the tamed function sigma\n",
        "def smdelta(theta, B, x, Dt):\n",
        "  tg = 1 + math.sqrt(Dt)*np.linalg.norm(sigma(theta, B, x))\n",
        "  y = sigma(theta, B, x)/tg\n",
        "  return y"
      ],
      "metadata": {
        "id": "2Q6b7at1iyOc"
      },
      "execution_count": null,
      "outputs": []
    },
    {
      "cell_type": "code",
      "source": [
        "#Define the tamed function gamma\n",
        "def cdelta(theta, B, g, x, Dt):\n",
        "  tg = 1 + math.sqrt(Dt)*np.linalg.norm(c(theta, g, x))*(1 + np.linalg.norm(b(theta, B, x)))\n",
        "  y = c(theta, g, x)/tg\n",
        "  return y"
      ],
      "metadata": {
        "id": "eP7mt5sgirT5"
      },
      "execution_count": null,
      "outputs": []
    },
    {
      "cell_type": "code",
      "source": [
        "#Define the step function h\n",
        "def h(x,ell,p0):\n",
        "  u = (1 + np.linalg.norm(b(1,a,x))**2 + np.linalg.norm(b(2,a,x))**2 + np.linalg.norm(sigma(1,B,x)) + np.linalg.norm(sigma(2,B,x)) + np.linalg.norm(x)**ell)**2 + (np.linalg.norm(c(1,g,x)) + np.linalg.norm(c(2,g,x)))**p0\n",
        "  y = 1/u\n",
        "  return y"
      ],
      "metadata": {
        "id": "NZYIpqn7i1-A"
      },
      "execution_count": null,
      "outputs": []
    },
    {
      "cell_type": "code",
      "source": [
        "def hdelta(x,ell, p0, delta):\n",
        "  y= h(x,ell, p0)*delta\n",
        "  return y"
      ],
      "metadata": {
        "id": "Q-zaxj-zi95L"
      },
      "execution_count": null,
      "outputs": []
    },
    {
      "cell_type": "code",
      "source": [
        "def  levyZ(t, ld, sm):\n",
        "# generate levyZ(t) = sum_{i=1}^N(t) Y_i\n",
        "# where N is poisson process with intensity lambda ld\n",
        "# and Y_i has normal distribution with mean zero and variance sigma^2\n",
        "  if t==0:\n",
        "    y = 0\n",
        "  if t >0:\n",
        "    r = poisson.rvs(t*ld, size=3)\n",
        "    y = sm * np.sqrt(r) * np.random.normal(0, 1, size = 3)\n",
        "  return y"
      ],
      "metadata": {
        "id": "iW76zpwBjCYJ"
      },
      "execution_count": null,
      "outputs": []
    },
    {
      "cell_type": "code",
      "source": [
        "def levyGM(t, gm, ld):\n",
        "# generate levyGM(t) bilateral Gamma process\n",
        "  if t==0:\n",
        "    y = 0\n",
        "  if t >0:\n",
        "    y = np.random.gamma(t*gm, ld, 3) - np.random.gamma(t*gm, ld, 3)\n",
        "  return y"
      ],
      "metadata": {
        "id": "nhiHazysjFM_"
      },
      "execution_count": null,
      "outputs": []
    },
    {
      "cell_type": "code",
      "source": [
        "#Define the trial function phi1, phi2, and phi3\n",
        "def phi1(X):\n",
        "  return X[0] + X[1] + X[2]\n",
        "def phi2(X):\n",
        "  return (X[0])**2 + (X[1])**2 +(X[2])**2\n",
        "def phi3(X):\n",
        "  return np.abs(phi1(X)/(np.abs(phi1(X)) + 1))"
      ],
      "metadata": {
        "id": "37Wh1HoTjHr7"
      },
      "execution_count": null,
      "outputs": []
    },
    {
      "cell_type": "code",
      "source": [
        "x0 = np.array([0, 0, 0])\n",
        "T = 10\n",
        "ld = 10\n",
        "sm = 0.4\n",
        "ell = 2\n",
        "p0 = 10\n",
        "a = np.array([1, 1, 1])\n",
        "B = np.array([0.1, 0.1, 0.1])\n",
        "g = np.array([0.2, 0.2, 0.2])"
      ],
      "metadata": {
        "id": "a-chyiq5jIl-"
      },
      "execution_count": null,
      "outputs": []
    },
    {
      "cell_type": "code",
      "source": [
        "def twolevel(l, T):\n",
        "  t = 0\n",
        "  t_c = 0\n",
        "  t_f = 0\n",
        "  theta_old_c = 1\n",
        "  theta_c = 1\n",
        "  theta_old_f = 1\n",
        "  theta_f = 1\n",
        "  theta = 1\n",
        "  h_c = 0\n",
        "  h_f = 0\n",
        "  dW_c = np.array([0, 0, 0])\n",
        "  dW_f = np.array([0, 0, 0])\n",
        "  dZ_c = np.array([0, 0, 0])\n",
        "  dZ_f = np.array([0, 0, 0])\n",
        "  n_c=2**l\n",
        "  n_f=2**(l+1)\n",
        "  delta_c=1/n_c\n",
        "  delta_f=1/n_f\n",
        "  X_c = x0\n",
        "  X_f = x0\n",
        "  while t<T:\n",
        "      #rand('normal')\n",
        "      t_old = t\n",
        "      theta_old_c = theta_c\n",
        "      theta_old_f = theta_f\n",
        "      t = min(t_c,t_f)\n",
        "      dW = math.sqrt(t-t_old)*np.random.normal(0, 1, size = 3)\n",
        "      dZ = levyGM(t-t_old, ld, sm)\n",
        "      dW_c = dW_c + dW\n",
        "      dW_f = dW_f + dW\n",
        "      dZ_c = dZ_c + dZ\n",
        "      dZ_f = dZ_f + dZ\n",
        "      V = np.random.uniform(0,1)\n",
        "      if theta == 1:\n",
        "        if V < 0.1*(t-t_old):\n",
        "          theta = 2\n",
        "      else:\n",
        "        if V < 0.2*(t-t_old):\n",
        "          theta = 1\n",
        "      if t==t_c:\n",
        "        X_c = X_c + b(theta_old_c, a, X_c)*h_c + smdelta(theta_old_c, B, X_c,delta_c)*dW_c + cdelta(theta_old_c, B, g, X_c, delta_c)* dZ_c  #update coarse path X_c using h_c and W_c\n",
        "        h_c =  h(X_c, ell, p0)*delta_c    #compute new adapted coarse path timestep\n",
        "        h_c = min(h_c,T-t_c)   #Check the time point that is nearest to T\n",
        "        t_c = t_c+h_c        #update t_c\n",
        "        dW_c = np.array([0, 0, 0])\n",
        "        dZ_c = np.array([0, 0, 0])\n",
        "        theta_c = theta\n",
        "      if t==t_f:\n",
        "        X_f = X_f + b(theta_old_f, a, X_f)*h_f + smdelta(theta_old_f, B, X_f, delta_f)*dW_f + cdelta(theta_old_f, B, g, X_f, delta_f)*dZ_f #update fine path X_f using h_f and W_f\n",
        "        h_f = h(X_f, ell, p0)*delta_f   #compute new adapted fine path timestep\n",
        "        h_f = min(h_f,T-t_f)    #Check the time point that is nearest to T\n",
        "        t_f = t_f+h_f     #update t_f\n",
        "        dW_f = np.array([0, 0, 0])\n",
        "        dZ_f = np.array([0, 0, 0])\n",
        "        theta_f = theta\n",
        "  kq3hamphi = np.array([phi1(X_f)-phi1(X_c), phi2(X_f)-phi2(X_c), phi3(X_f)-phi3(X_c)])\n",
        "  return kq3hamphi"
      ],
      "metadata": {
        "id": "guq8efJ5je6e"
      },
      "execution_count": null,
      "outputs": []
    },
    {
      "cell_type": "code",
      "source": [
        "def level0(T):\n",
        "  t = 0\n",
        "   # update h_f\n",
        "  theta = 1\n",
        "  dW = np.array([0, 0, 0])\n",
        "  dZ = np.array([0, 0, 0])\n",
        "  X_f = x0\n",
        "  while t<T:\n",
        "      h0 = h(X_f, ell, p0)\n",
        "      dW = math.sqrt(h0)*np.random.normal(0, 1, size = 3)\n",
        "      dZ = levyGM(h0, ld, sm)\n",
        "      X_f = X_f + b(theta, a, X_f)*h0 + smdelta(theta, B, X_f, 1)*dW + cdelta(theta, B, g, X_f, 1)*dZ #update X_f\n",
        "      V = np.random.uniform(0,1)\n",
        "      if theta == 1:\n",
        "        if V < 0.1*h0:\n",
        "          theta = 2\n",
        "      else:\n",
        "        if V < 0.2*h0:\n",
        "          theta = 1\n",
        "      t = t + h0     #update t_f\n",
        "  kq3hamphi = np.array([phi1(X_f), phi2(X_f), phi3(X_f)])\n",
        "  return kq3hamphi"
      ],
      "metadata": {
        "id": "e299tA2wjkL1"
      },
      "execution_count": null,
      "outputs": []
    },
    {
      "cell_type": "code",
      "source": [
        "T = 20\n",
        "L = 7\n",
        "N_l = np.array([0]*(L+1))\n",
        "N_l[0] = 2**10\n",
        "for l in range(L):\n",
        "  N_l[l+1] = (N_l[l]/2)*math.sqrt((l+1)/(l+2))\n",
        "N_l = np.floor(N_l) + 1\n",
        "print(N_l)"
      ],
      "metadata": {
        "id": "r_ohhf_tjnUu"
      },
      "execution_count": null,
      "outputs": []
    },
    {
      "cell_type": "code",
      "source": [
        "def Y_hat(N_l_e, L_e, T_e):\n",
        "  sum_level_0 = np.array([0]*3)\n",
        "  for i in range(int(N_l_e[0])):\n",
        "    sum_level_0 = sum_level_0 + level0(T_e)\n",
        "\n",
        "  sum_two_level = np.array([[0]*3]*L)\n",
        "  sum_all_level = np.array([0]*3)\n",
        "  for i in range(L_e):\n",
        "    for j in range(int(N_l_e[i])):\n",
        "      sum_two_level[i] = sum_two_level[i] + twolevel(i,T_e)\n",
        "    sum_all_level = sum_all_level + 1/N_l_e[i]*sum_two_level[i]\n",
        "  return 1/N_l_e[0]*(sum_level_0) + sum_all_level"
      ],
      "metadata": {
        "id": "hlBzNi1PjrY9"
      },
      "execution_count": null,
      "outputs": []
    },
    {
      "cell_type": "code",
      "source": [
        "def point_T_e(k):\n",
        "  T_e_0 = [0]*(k+1)\n",
        "  for i in range(k+1):\n",
        "    T_e_0[i] = 3 + 2*i*math.log(2)\n",
        "  return T_e_0"
      ],
      "metadata": {
        "id": "tyEes2GFjuMJ"
      },
      "execution_count": null,
      "outputs": []
    },
    {
      "cell_type": "code",
      "source": [
        "def point_L_e(k):\n",
        "  L_e_0 = [0]*(k+1)\n",
        "  for i in range(k+1):\n",
        "    L_e_0[i] = 3 + i\n",
        "  return L_e_0"
      ],
      "metadata": {
        "id": "BP5EVJ_5jzq0"
      },
      "execution_count": null,
      "outputs": []
    },
    {
      "cell_type": "code",
      "source": [
        "def point_N_l_e(k):\n",
        "  N_l_e_0 = [0]*(k+1)\n",
        "  for i in range(k+1):\n",
        "    N_l_e_0[i] = [0]*point_L_e(k)[i]\n",
        "  for i in range(k+1):\n",
        "    N_l_e_0[i][0] = 32*(4**i)\n",
        "    for j in range(len(N_l_e_0[i]) - 1):\n",
        "      N_l_e_0[i][j+1] = (N_l_e_0[i][j]/2)*math.sqrt((l+1)/(l+2))\n",
        "    N_l_e_0[i] = np.floor(N_l_e_0[i]) + 1\n",
        "  return N_l_e_0"
      ],
      "metadata": {
        "id": "ueiHBqevj3PU"
      },
      "execution_count": null,
      "outputs": []
    },
    {
      "cell_type": "code",
      "source": [
        "#Testing, sample = 10\n",
        "start_time = time.time()\n",
        "Y_hat_phi1 = []\n",
        "Y_hat_phi2 = []\n",
        "Y_hat_phi3 = []\n",
        "for i in range(10):\n",
        "  a = Y_hat(point_N_l_e(4)[0], point_L_e(4)[0], point_T_e(4)[0])\n",
        "  print(a)\n",
        "  Y_hat_phi1.append(a[0])\n",
        "  Y_hat_phi2.append(a[1])\n",
        "  Y_hat_phi3.append(a[2])\n",
        "end_time = time.time()\n",
        "print(\"Computational cost:\")\n",
        "print(end_time - start_time)"
      ],
      "metadata": {
        "id": "nTtZGbYHj6x0"
      },
      "execution_count": null,
      "outputs": []
    },
    {
      "cell_type": "code",
      "source": [
        "#Number of sample for epsilon/16\n",
        "st = 2"
      ],
      "metadata": {
        "id": "NupVF_P9j9sH"
      },
      "execution_count": null,
      "outputs": []
    },
    {
      "cell_type": "code",
      "source": [
        "#Draw box plots of Y_hat, epsilon = epsilon_0\n",
        "Y_hat_phi1_epsilon0 = []\n",
        "Y_hat_phi2_epsilon0 = []\n",
        "Y_hat_phi3_epsilon0 = []\n",
        "start_time = time.time()\n",
        "for i in range(st*(2**4)):\n",
        "  a = Y_hat(point_N_l_e(4)[0], point_L_e(4)[0], point_T_e(4)[0])\n",
        "  print(a)\n",
        "  Y_hat_phi1_epsilon0.append(a[0])\n",
        "  Y_hat_phi2_epsilon0.append(a[1])\n",
        "  Y_hat_phi3_epsilon0.append(a[2])\n",
        "end_time = time.time()\n",
        "print(\"Computational cost:\")\n",
        "print(end_time - start_time)"
      ],
      "metadata": {
        "id": "KvzES2K8kJfX"
      },
      "execution_count": null,
      "outputs": []
    },
    {
      "cell_type": "code",
      "source": [
        "#Draw box plots of Y_hat, epsilon = epsilon_0/2\n",
        "Y_hat_phi1_epsilon1 = []\n",
        "Y_hat_phi2_epsilon1 = []\n",
        "Y_hat_phi3_epsilon1 = []\n",
        "start_time = time.time()\n",
        "for i in range(st*(2**3)):\n",
        "  a = Y_hat(point_N_l_e(4)[1], point_L_e(4)[1], point_T_e(4)[1])\n",
        "  print(a)\n",
        "  Y_hat_phi1_epsilon1.append(a[0])\n",
        "  Y_hat_phi2_epsilon1.append(a[1])\n",
        "  Y_hat_phi3_epsilon1.append(a[2])\n",
        "end_time = time.time()\n",
        "print(\"Computational cost:\")\n",
        "print(end_time - start_time)"
      ],
      "metadata": {
        "id": "IT5mXLUWkPnh"
      },
      "execution_count": null,
      "outputs": []
    },
    {
      "cell_type": "code",
      "source": [
        "#Draw box plots of Y_hat, epsilon = epsilon_0/(2^2)\n",
        "Y_hat_phi1_epsilon2 = []\n",
        "Y_hat_phi2_epsilon2 = []\n",
        "Y_hat_phi3_epsilon2 = []\n",
        "start_time = time.time()\n",
        "for i in range(st*(2**2)):\n",
        "  a = Y_hat(point_N_l_e(4)[2], point_L_e(4)[2], point_T_e(4)[2])\n",
        "  print(a)\n",
        "  Y_hat_phi1_epsilon2.append(a[0])\n",
        "  Y_hat_phi2_epsilon2.append(a[1])\n",
        "  Y_hat_phi3_epsilon2.append(a[2])\n",
        "end_time = time.time()\n",
        "print(\"Computational cost:\")\n",
        "print(end_time - start_time)"
      ],
      "metadata": {
        "id": "4pr6CmG1kSJC"
      },
      "execution_count": null,
      "outputs": []
    },
    {
      "cell_type": "code",
      "source": [
        "#Draw box plots of Y_hat, epsilon = epsilon_0/(2^3)\n",
        "Y_hat_phi1_epsilon3 = []\n",
        "Y_hat_phi2_epsilon3 = []\n",
        "Y_hat_phi3_epsilon3 = []\n",
        "start_time = time.time()\n",
        "for i in range(st*2):\n",
        "  a = Y_hat(point_N_l_e(4)[3], point_L_e(4)[3], point_T_e(4)[3])\n",
        "  print(a)\n",
        "  Y_hat_phi1_epsilon3.append(a[0])\n",
        "  Y_hat_phi2_epsilon3.append(a[1])\n",
        "  Y_hat_phi3_epsilon3.append(a[2])\n",
        "end_time = time.time()\n",
        "print(\"Computational cost:\")\n",
        "print(end_time - start_time)"
      ],
      "metadata": {
        "id": "d57TR-GfkV2f"
      },
      "execution_count": null,
      "outputs": []
    },
    {
      "cell_type": "code",
      "source": [
        "#Draw box plots of Y_hat, epsilon = epsilon_0/(2^4)\n",
        "Y_hat_phi1_epsilon4 = []\n",
        "Y_hat_phi2_epsilon4 = []\n",
        "Y_hat_phi3_epsilon4 = []\n",
        "start_time = time.time()\n",
        "for i in range(st):\n",
        "  a = Y_hat(point_N_l_e(4)[4], point_L_e(4)[4], point_T_e(4)[4])\n",
        "  print(a)\n",
        "  Y_hat_phi1_epsilon4.append(a[0])\n",
        "  Y_hat_phi2_epsilon4.append(a[1])\n",
        "  Y_hat_phi3_epsilon4.append(a[2])\n",
        "end_time = time.time()\n",
        "print(\"Computational cost:\")\n",
        "print(end_time - start_time)"
      ],
      "metadata": {
        "id": "l7n8v8eJkYvv"
      },
      "execution_count": null,
      "outputs": []
    },
    {
      "cell_type": "code",
      "source": [
        "#Use tamed-adaptive EM scheme to approximate the solution of the SDE, then draw the regression line to see the convergence rate\n",
        "def kq(L, nMC):\n",
        "    SS = np.array([0.0, 0.0, 0.0, 0.0, 0.0])\n",
        "    for l in range(2,L+1):\n",
        "        saiso=0\n",
        "        for iMC in range(1, nMC+1):\n",
        "            t = 0\n",
        "            t_c = 0\n",
        "            t_f = 0\n",
        "            theta_old_c = 1\n",
        "            theta_c = 1\n",
        "            theta_old_f = 1\n",
        "            theta_f = 1\n",
        "            theta = 1\n",
        "            h_c = 0\n",
        "            h_f = 0\n",
        "            dW_c = np.array([0, 0, 0])\n",
        "            dW_f = np.array([0, 0, 0])\n",
        "            dZ_c = np.array([0, 0, 0])\n",
        "            dZ_f = np.array([0, 0, 0])\n",
        "            n_c=2**l\n",
        "            n_f=2**(l+1)\n",
        "            delta_c=1/n_c\n",
        "            delta_f=1/n_f\n",
        "            X_c = x0\n",
        "            X_f = x0\n",
        "            while t<T:\n",
        "                #rand('normal')\n",
        "                t_old = t\n",
        "                theta_old_c = theta_c\n",
        "                theta_old_f = theta_f\n",
        "                t = min(t_c,t_f)\n",
        "                dW = math.sqrt(t-t_old)*np.random.normal(0, 1, size = 3)\n",
        "                dZ = levyGM(t-t_old, ld, sm)\n",
        "                dW_c = dW_c + dW\n",
        "                dW_f = dW_f + dW\n",
        "                dZ_c = dZ_c + dZ\n",
        "                dZ_f = dZ_f + dZ\n",
        "                V = np.random.uniform(0,1)\n",
        "                if theta == 1:\n",
        "                  if V < 0.1*(t-t_old):\n",
        "                    theta = 2\n",
        "                else:\n",
        "                  if V < 0.2*(t-t_old):\n",
        "                    theta = 1\n",
        "                if t==t_c:\n",
        "                  X_c = X_c + b(theta_old_c, a, X_c)*h_c + smdelta(theta_old_c, B, X_c,delta_c)*dW_c + cdelta(theta_old_c, B, g, X_c, delta_c)* dZ_c  #update X_c\n",
        "                  h_c =  h(X_c, ell, p0)*delta_c # hdelta(X_c,delta_c)   # update h_c\n",
        "                  h_c = min(h_c,T-t_c)   #kiem tra moc thoi diem gan T nhat\n",
        "                  t_c = t_c+h_c        #update t_c\n",
        "                  dW_c = np.array([0, 0, 0])           #neu nhay thi bang 0\n",
        "                  dZ_c = np.array([0, 0, 0])\n",
        "                  theta_c = theta\n",
        "                if t==t_f:\n",
        "                  X_f = X_f + b(theta_old_f, a, X_f)*h_f + smdelta(theta_old_f, B, X_f, delta_f)*dW_f + cdelta(theta_old_f, B, g, X_f, delta_f)*dZ_f #update X_f\n",
        "                  h_f = h(X_f, ell, p0)*delta_f   # update h_f\n",
        "                  h_f = min(h_f,T-t_f)    #kiem tra moc thoi diem gan T nhat\n",
        "                  t_f = t_f+h_f     #update t_f\n",
        "                  dW_f = np.array([0, 0, 0])         #neu nhay thi bang 0\n",
        "                  dZ_f = np.array([0, 0, 0])\n",
        "                  theta_f = theta\n",
        "            saiso=saiso + (np.linalg.norm(X_c-X_f))**2\n",
        "        Esaiso= math.log(saiso/nMC)/math.log(2)\n",
        "        SS[l-2] = Esaiso\n",
        "        print(Esaiso)\n",
        "    v = np.array([2, 3, 4, 5, 6]).reshape((-1, 1))\n",
        "    model = LinearRegression().fit(v, SS)\n",
        "    r_sq = model.score(v, SS)\n",
        "    print(f\"coefficient of determination: {r_sq}\")\n",
        "    print(f\"intercept: {model.intercept_}\")\n",
        "    print(f\"slope: {model.coef_}\")\n",
        "    return None"
      ],
      "metadata": {
        "id": "eFqVxrvhktSL"
      },
      "execution_count": null,
      "outputs": []
    },
    {
      "cell_type": "code",
      "source": [
        "#Computational cost\n",
        "computational_cost = [55.05143332481384, 179.55675601959229, 528.8837549686432, 1483.4553360939026, 3898.9569458961487]\n",
        "log2_computational_cost = np.log(computational_cost)/math.log(2)\n",
        "log2_computational_cost"
      ],
      "metadata": {
        "id": "WFu23qQLkkhH"
      },
      "execution_count": null,
      "outputs": []
    },
    {
      "cell_type": "code",
      "source": [
        "#Regression line of RMS and computational cost\n",
        "log_2_epsilon = np.array([-1, -2, -3, -4, -5]).reshape((-1, 1))\n",
        "model = LinearRegression().fit(log_2_epsilon, log2_computational_cost)\n",
        "r_sq = model.score(log_2_epsilon, log2_computational_cost)\n",
        "print(f\"coefficient of determination: {r_sq}\")\n",
        "print(f\"intercept: {model.intercept_}\")\n",
        "print(f\"slope: {model.coef_}\")\n",
        "\n",
        "plt.scatter(log_2_epsilon, log2_computational_cost)\n",
        "\n",
        "# fitting a linear regression line\n",
        "m, b = np.polyfit([-1, -2, -3, -4, -5], log2_computational_cost, 1)\n",
        "\n",
        "# adding the regression line to the scatter plot\n",
        "plt.xlabel(\"1\")\n",
        "plt.ylabel(\"2\")\n",
        "plt.plot(log_2_epsilon, m*log_2_epsilon + b)"
      ],
      "metadata": {
        "id": "xdkID1a1kmw2"
      },
      "execution_count": null,
      "outputs": []
    }
  ]
}